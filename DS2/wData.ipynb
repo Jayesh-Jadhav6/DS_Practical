{
 "cells": [
  {
   "cell_type": "code",
   "execution_count": 37,
   "id": "50c9931f-e633-4fbb-b6f1-8d049176a0bd",
   "metadata": {},
   "outputs": [],
   "source": [
    "import pandas as pd\n",
    "import numpy as np"
   ]
  },
  {
   "cell_type": "code",
   "execution_count": 39,
   "id": "bcef3d87-ad2f-480c-8995-64681ec216b7",
   "metadata": {},
   "outputs": [],
   "source": [
    "dataf = pd.read_csv('student_dataset.csv')"
   ]
  },
  {
   "cell_type": "code",
   "execution_count": 41,
   "id": "44c67dec-e63c-407c-87c2-e5330c2f5a9c",
   "metadata": {},
   "outputs": [
    {
     "data": {
      "text/html": [
       "<div>\n",
       "<style scoped>\n",
       "    .dataframe tbody tr th:only-of-type {\n",
       "        vertical-align: middle;\n",
       "    }\n",
       "\n",
       "    .dataframe tbody tr th {\n",
       "        vertical-align: top;\n",
       "    }\n",
       "\n",
       "    .dataframe thead th {\n",
       "        text-align: right;\n",
       "    }\n",
       "</style>\n",
       "<table border=\"1\" class=\"dataframe\">\n",
       "  <thead>\n",
       "    <tr style=\"text-align: right;\">\n",
       "      <th></th>\n",
       "      <th>Student_Names</th>\n",
       "      <th>Phone_No.</th>\n",
       "      <th>Math</th>\n",
       "      <th>Physics</th>\n",
       "      <th>Chemistry</th>\n",
       "      <th>Grade</th>\n",
       "      <th>Comment</th>\n",
       "      <th>Roll No.</th>\n",
       "      <th>School Name</th>\n",
       "      <th>Student Address</th>\n",
       "    </tr>\n",
       "  </thead>\n",
       "  <tbody>\n",
       "    <tr>\n",
       "      <th>0</th>\n",
       "      <td>Donald Contreras</td>\n",
       "      <td>9208625450</td>\n",
       "      <td>76</td>\n",
       "      <td>84</td>\n",
       "      <td>54</td>\n",
       "      <td>B+</td>\n",
       "      <td>Good Pursuance</td>\n",
       "      <td>524613</td>\n",
       "      <td>Martin Luther School</td>\n",
       "      <td>478 Mooney Park, New Valerie, VI 28836</td>\n",
       "    </tr>\n",
       "    <tr>\n",
       "      <th>1</th>\n",
       "      <td>Joseph Horton</td>\n",
       "      <td>9886408555</td>\n",
       "      <td>91</td>\n",
       "      <td>75</td>\n",
       "      <td>78</td>\n",
       "      <td>A</td>\n",
       "      <td>Very Good Achivement</td>\n",
       "      <td>561635</td>\n",
       "      <td>Martin Luther School</td>\n",
       "      <td>037 Matthew Shores, Greeneton, CA 98399</td>\n",
       "    </tr>\n",
       "    <tr>\n",
       "      <th>2</th>\n",
       "      <td>Savannah Burns MD</td>\n",
       "      <td>9047592659</td>\n",
       "      <td>64</td>\n",
       "      <td>98</td>\n",
       "      <td>20</td>\n",
       "      <td>C</td>\n",
       "      <td>Below Average Achivement</td>\n",
       "      <td>560985</td>\n",
       "      <td>Martin Luther School</td>\n",
       "      <td>96124 Lloyd Streets, Edwardmouth, DC 61677</td>\n",
       "    </tr>\n",
       "    <tr>\n",
       "      <th>3</th>\n",
       "      <td>William Carter</td>\n",
       "      <td>9048473864</td>\n",
       "      <td>15</td>\n",
       "      <td>95</td>\n",
       "      <td>32</td>\n",
       "      <td>D</td>\n",
       "      <td>Poor Pursuance</td>\n",
       "      <td>535126</td>\n",
       "      <td>Martin Luther School</td>\n",
       "      <td>11959 Clark Village, Ivanview, NH 43940</td>\n",
       "    </tr>\n",
       "    <tr>\n",
       "      <th>4</th>\n",
       "      <td>John Rodriguez</td>\n",
       "      <td>9685225730</td>\n",
       "      <td>86</td>\n",
       "      <td>86</td>\n",
       "      <td>66</td>\n",
       "      <td>B+</td>\n",
       "      <td>Good Pursuance</td>\n",
       "      <td>559410</td>\n",
       "      <td>Martin Luther School</td>\n",
       "      <td>051 Weaver Glen Apt. 724, West Davidborough, M...</td>\n",
       "    </tr>\n",
       "  </tbody>\n",
       "</table>\n",
       "</div>"
      ],
      "text/plain": [
       "       Student_Names   Phone_No.  Math  Physics  Chemistry Grade  \\\n",
       "0   Donald Contreras  9208625450    76       84         54    B+   \n",
       "1      Joseph Horton  9886408555    91       75         78     A   \n",
       "2  Savannah Burns MD  9047592659    64       98         20     C   \n",
       "3     William Carter  9048473864    15       95         32     D   \n",
       "4     John Rodriguez  9685225730    86       86         66    B+   \n",
       "\n",
       "                    Comment  Roll No.           School Name  \\\n",
       "0            Good Pursuance    524613  Martin Luther School   \n",
       "1      Very Good Achivement    561635  Martin Luther School   \n",
       "2  Below Average Achivement    560985  Martin Luther School   \n",
       "3            Poor Pursuance    535126  Martin Luther School   \n",
       "4            Good Pursuance    559410  Martin Luther School   \n",
       "\n",
       "                                     Student Address  \n",
       "0             478 Mooney Park, New Valerie, VI 28836  \n",
       "1            037 Matthew Shores, Greeneton, CA 98399  \n",
       "2         96124 Lloyd Streets, Edwardmouth, DC 61677  \n",
       "3            11959 Clark Village, Ivanview, NH 43940  \n",
       "4  051 Weaver Glen Apt. 724, West Davidborough, M...  "
      ]
     },
     "execution_count": 41,
     "metadata": {},
     "output_type": "execute_result"
    }
   ],
   "source": [
    "dataf.head()"
   ]
  },
  {
   "cell_type": "code",
   "execution_count": 43,
   "id": "1ea0ccca-ac6d-4cfe-a3ab-680ccededdef",
   "metadata": {},
   "outputs": [
    {
     "name": "stdout",
     "output_type": "stream",
     "text": [
      "artificially added some null values if there arent any in dataset for demonstration\n"
     ]
    }
   ],
   "source": [
    "# Artificially introduce missing values (for demonstration purposes)\n",
    "dataf.loc[0:3, 'Math'] = np.nan  # Introduce missing values in the 'Math' column\n",
    "dataf.loc[5:8, 'Physics'] = np.nan  # Introduce missing values in the 'Physics' column\n",
    "print(\"artificially added some null values if there arent any in dataset for demonstration\")"
   ]
  },
  {
   "cell_type": "code",
   "execution_count": 47,
   "id": "cd39c04e-b939-4ef2-9d83-41a7e7c2b23e",
   "metadata": {},
   "outputs": [
    {
     "data": {
      "text/html": [
       "<div>\n",
       "<style scoped>\n",
       "    .dataframe tbody tr th:only-of-type {\n",
       "        vertical-align: middle;\n",
       "    }\n",
       "\n",
       "    .dataframe tbody tr th {\n",
       "        vertical-align: top;\n",
       "    }\n",
       "\n",
       "    .dataframe thead th {\n",
       "        text-align: right;\n",
       "    }\n",
       "</style>\n",
       "<table border=\"1\" class=\"dataframe\">\n",
       "  <thead>\n",
       "    <tr style=\"text-align: right;\">\n",
       "      <th></th>\n",
       "      <th>Student_Names</th>\n",
       "      <th>Phone_No.</th>\n",
       "      <th>Math</th>\n",
       "      <th>Physics</th>\n",
       "      <th>Chemistry</th>\n",
       "      <th>Grade</th>\n",
       "      <th>Comment</th>\n",
       "      <th>Roll No.</th>\n",
       "      <th>School Name</th>\n",
       "      <th>Student Address</th>\n",
       "    </tr>\n",
       "  </thead>\n",
       "  <tbody>\n",
       "    <tr>\n",
       "      <th>0</th>\n",
       "      <td>False</td>\n",
       "      <td>False</td>\n",
       "      <td>True</td>\n",
       "      <td>False</td>\n",
       "      <td>False</td>\n",
       "      <td>False</td>\n",
       "      <td>False</td>\n",
       "      <td>False</td>\n",
       "      <td>False</td>\n",
       "      <td>False</td>\n",
       "    </tr>\n",
       "    <tr>\n",
       "      <th>1</th>\n",
       "      <td>False</td>\n",
       "      <td>False</td>\n",
       "      <td>True</td>\n",
       "      <td>False</td>\n",
       "      <td>False</td>\n",
       "      <td>False</td>\n",
       "      <td>False</td>\n",
       "      <td>False</td>\n",
       "      <td>False</td>\n",
       "      <td>False</td>\n",
       "    </tr>\n",
       "    <tr>\n",
       "      <th>2</th>\n",
       "      <td>False</td>\n",
       "      <td>False</td>\n",
       "      <td>True</td>\n",
       "      <td>False</td>\n",
       "      <td>False</td>\n",
       "      <td>False</td>\n",
       "      <td>False</td>\n",
       "      <td>False</td>\n",
       "      <td>False</td>\n",
       "      <td>False</td>\n",
       "    </tr>\n",
       "    <tr>\n",
       "      <th>3</th>\n",
       "      <td>False</td>\n",
       "      <td>False</td>\n",
       "      <td>True</td>\n",
       "      <td>False</td>\n",
       "      <td>False</td>\n",
       "      <td>False</td>\n",
       "      <td>False</td>\n",
       "      <td>False</td>\n",
       "      <td>False</td>\n",
       "      <td>False</td>\n",
       "    </tr>\n",
       "    <tr>\n",
       "      <th>4</th>\n",
       "      <td>False</td>\n",
       "      <td>False</td>\n",
       "      <td>False</td>\n",
       "      <td>False</td>\n",
       "      <td>False</td>\n",
       "      <td>False</td>\n",
       "      <td>False</td>\n",
       "      <td>False</td>\n",
       "      <td>False</td>\n",
       "      <td>False</td>\n",
       "    </tr>\n",
       "    <tr>\n",
       "      <th>...</th>\n",
       "      <td>...</td>\n",
       "      <td>...</td>\n",
       "      <td>...</td>\n",
       "      <td>...</td>\n",
       "      <td>...</td>\n",
       "      <td>...</td>\n",
       "      <td>...</td>\n",
       "      <td>...</td>\n",
       "      <td>...</td>\n",
       "      <td>...</td>\n",
       "    </tr>\n",
       "    <tr>\n",
       "      <th>8995</th>\n",
       "      <td>False</td>\n",
       "      <td>False</td>\n",
       "      <td>False</td>\n",
       "      <td>False</td>\n",
       "      <td>False</td>\n",
       "      <td>False</td>\n",
       "      <td>False</td>\n",
       "      <td>False</td>\n",
       "      <td>False</td>\n",
       "      <td>False</td>\n",
       "    </tr>\n",
       "    <tr>\n",
       "      <th>8996</th>\n",
       "      <td>False</td>\n",
       "      <td>False</td>\n",
       "      <td>False</td>\n",
       "      <td>False</td>\n",
       "      <td>False</td>\n",
       "      <td>False</td>\n",
       "      <td>False</td>\n",
       "      <td>False</td>\n",
       "      <td>False</td>\n",
       "      <td>False</td>\n",
       "    </tr>\n",
       "    <tr>\n",
       "      <th>8997</th>\n",
       "      <td>False</td>\n",
       "      <td>False</td>\n",
       "      <td>False</td>\n",
       "      <td>False</td>\n",
       "      <td>False</td>\n",
       "      <td>False</td>\n",
       "      <td>False</td>\n",
       "      <td>False</td>\n",
       "      <td>False</td>\n",
       "      <td>False</td>\n",
       "    </tr>\n",
       "    <tr>\n",
       "      <th>8998</th>\n",
       "      <td>False</td>\n",
       "      <td>False</td>\n",
       "      <td>False</td>\n",
       "      <td>False</td>\n",
       "      <td>False</td>\n",
       "      <td>False</td>\n",
       "      <td>False</td>\n",
       "      <td>False</td>\n",
       "      <td>False</td>\n",
       "      <td>False</td>\n",
       "    </tr>\n",
       "    <tr>\n",
       "      <th>8999</th>\n",
       "      <td>False</td>\n",
       "      <td>False</td>\n",
       "      <td>False</td>\n",
       "      <td>False</td>\n",
       "      <td>False</td>\n",
       "      <td>False</td>\n",
       "      <td>False</td>\n",
       "      <td>False</td>\n",
       "      <td>False</td>\n",
       "      <td>False</td>\n",
       "    </tr>\n",
       "  </tbody>\n",
       "</table>\n",
       "<p>9000 rows × 10 columns</p>\n",
       "</div>"
      ],
      "text/plain": [
       "      Student_Names  Phone_No.   Math  Physics  Chemistry  Grade  Comment  \\\n",
       "0             False      False   True    False      False  False    False   \n",
       "1             False      False   True    False      False  False    False   \n",
       "2             False      False   True    False      False  False    False   \n",
       "3             False      False   True    False      False  False    False   \n",
       "4             False      False  False    False      False  False    False   \n",
       "...             ...        ...    ...      ...        ...    ...      ...   \n",
       "8995          False      False  False    False      False  False    False   \n",
       "8996          False      False  False    False      False  False    False   \n",
       "8997          False      False  False    False      False  False    False   \n",
       "8998          False      False  False    False      False  False    False   \n",
       "8999          False      False  False    False      False  False    False   \n",
       "\n",
       "      Roll No.  School Name  Student Address  \n",
       "0        False        False            False  \n",
       "1        False        False            False  \n",
       "2        False        False            False  \n",
       "3        False        False            False  \n",
       "4        False        False            False  \n",
       "...        ...          ...              ...  \n",
       "8995     False        False            False  \n",
       "8996     False        False            False  \n",
       "8997     False        False            False  \n",
       "8998     False        False            False  \n",
       "8999     False        False            False  \n",
       "\n",
       "[9000 rows x 10 columns]"
      ]
     },
     "execution_count": 47,
     "metadata": {},
     "output_type": "execute_result"
    }
   ],
   "source": [
    "dataf.isnull()"
   ]
  },
  {
   "cell_type": "code",
   "execution_count": 45,
   "id": "2e1cd996-7e3a-4368-b288-e73fe0225a18",
   "metadata": {},
   "outputs": [
    {
     "name": "stdout",
     "output_type": "stream",
     "text": [
      "Student_Names      0\n",
      "Phone_No.          0\n",
      "Math               4\n",
      "Physics            4\n",
      "Chemistry          0\n",
      "Grade              0\n",
      "Comment            0\n",
      "Roll No.           0\n",
      "School Name        0\n",
      "Student Address    0\n",
      "dtype: int64\n"
     ]
    }
   ],
   "source": [
    "# Check for missing values\n",
    "print(dataf.isnull().sum())"
   ]
  },
  {
   "cell_type": "code",
   "execution_count": 49,
   "id": "cc508318-ac5e-450a-a77a-db7e3d4ea00f",
   "metadata": {},
   "outputs": [
    {
     "name": "stdout",
     "output_type": "stream",
     "text": [
      "Missing values handled (if any).\n",
      "\n"
     ]
    }
   ],
   "source": [
    "# 1. Handle missing values\n",
    "dataf.fillna(dataf.mean(numeric_only=True), inplace=True)\n",
    "print(\"Missing values handled (if any).\\n\")"
   ]
  },
  {
   "cell_type": "code",
   "execution_count": 51,
   "id": "8eace75d-40c7-4e43-ae2d-d0f7863356ec",
   "metadata": {},
   "outputs": [
    {
     "name": "stdout",
     "output_type": "stream",
     "text": [
      "After handling missing values:\n",
      " Student_Names      0\n",
      "Phone_No.          0\n",
      "Math               0\n",
      "Physics            0\n",
      "Chemistry          0\n",
      "Grade              0\n",
      "Comment            0\n",
      "Roll No.           0\n",
      "School Name        0\n",
      "Student Address    0\n",
      "dtype: int64\n"
     ]
    }
   ],
   "source": [
    "# Verify that missing values have been handled\n",
    "print(\"After handling missing values:\\n\", dataf.isnull().sum())"
   ]
  },
  {
   "cell_type": "code",
   "execution_count": 53,
   "id": "8e687c4a-8f0a-4d31-b508-e1f7d6e73076",
   "metadata": {},
   "outputs": [
    {
     "name": "stdout",
     "output_type": "stream",
     "text": [
      "Outliers removed (if any).\n",
      "\n"
     ]
    }
   ],
   "source": [
    "numeric_cols = dataf.select_dtypes(include='number')\n",
    "Q1 = numeric_cols.quantile(0.25)\n",
    "Q3 = numeric_cols.quantile(0.75)\n",
    "IQR = Q3 - Q1\n",
    "dataf = dataf[(numeric_cols >= Q1 - 1.5 * IQR) & (numeric_cols <= Q3 + 1.5 * IQR)].dropna()\n",
    "print(\"Outliers removed (if any).\\n\")"
   ]
  },
  {
   "cell_type": "code",
   "execution_count": 55,
   "id": "2ee1766a-133f-4e37-8342-09f94ec0604b",
   "metadata": {},
   "outputs": [
    {
     "name": "stdout",
     "output_type": "stream",
     "text": [
      "Log transformation applied to 'Math' column.\n",
      "\n"
     ]
    }
   ],
   "source": [
    "# 3. Transform one variable (log transform on 'Math')\n",
    "dataf['Math'] = np.log1p(dataf['Math'])\n",
    "print(\"Log transformation applied to 'Math' column.\\n\")"
   ]
  },
  {
   "cell_type": "code",
   "execution_count": 57,
   "id": "78209e14-0bf5-4ace-9baf-965431cae56d",
   "metadata": {},
   "outputs": [
    {
     "name": "stdout",
     "output_type": "stream",
     "text": [
      "Final Data Summary:\n",
      "\n",
      "       Phone_No.  Math  Physics  Chemistry  Roll No.\n",
      "count        0.0   0.0      0.0        0.0       0.0\n",
      "mean         NaN   NaN      NaN        NaN       NaN\n",
      "std          NaN   NaN      NaN        NaN       NaN\n",
      "min          NaN   NaN      NaN        NaN       NaN\n",
      "25%          NaN   NaN      NaN        NaN       NaN\n",
      "50%          NaN   NaN      NaN        NaN       NaN\n",
      "75%          NaN   NaN      NaN        NaN       NaN\n",
      "max          NaN   NaN      NaN        NaN       NaN\n"
     ]
    }
   ],
   "source": [
    "# Show final summary\n",
    "print(\"Final Data Summary:\\n\")\n",
    "print(dataf.describe())"
   ]
  },
  {
   "cell_type": "code",
   "execution_count": null,
   "id": "fff12423-80fc-474e-8a54-8dd9d2808b37",
   "metadata": {},
   "outputs": [],
   "source": []
  }
 ],
 "metadata": {
  "kernelspec": {
   "display_name": "Python 3 (ipykernel)",
   "language": "python",
   "name": "python3"
  },
  "language_info": {
   "codemirror_mode": {
    "name": "ipython",
    "version": 3
   },
   "file_extension": ".py",
   "mimetype": "text/x-python",
   "name": "python",
   "nbconvert_exporter": "python",
   "pygments_lexer": "ipython3",
   "version": "3.12.7"
  }
 },
 "nbformat": 4,
 "nbformat_minor": 5
}
