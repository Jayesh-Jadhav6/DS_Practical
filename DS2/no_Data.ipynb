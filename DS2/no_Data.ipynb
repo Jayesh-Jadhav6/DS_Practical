{
 "cells": [
  {
   "cell_type": "code",
   "execution_count": 3,
   "id": "ec0e6ad2-2c7d-4235-a948-b2f32626cf86",
   "metadata": {},
   "outputs": [],
   "source": [
    "import pandas as pd\n",
    "import numpy as np"
   ]
  },
  {
   "cell_type": "code",
   "execution_count": 5,
   "id": "2c337a9f-5337-41f6-b87c-047c1ce48a64",
   "metadata": {},
   "outputs": [],
   "source": [
    "# Step 1: Create dataset with missing values and outliers\n",
    "data = {\n",
    "    'StudentID': [1, 2, 3, 4, 5, 6, 7, 8, 9, 10],\n",
    "    'Math': [85, 90, np.nan, 92, 88, 300, 95, np.nan, 83, 91],         # 300 is outlier, NaNs present\n",
    "    'Physics': [80, 89, 75, 85, 82, np.nan, 96, 70, 84, 200],          # 200 is outlier, NaN present\n",
    "    'Chemistry': [78, 85, 82, 89, 87, 95, 92, 76, np.nan, 88]          # 1 missing value\n",
    "}"
   ]
  },
  {
   "cell_type": "code",
   "execution_count": 7,
   "id": "ea127cfc-dd51-4073-9118-6556d5d5aef5",
   "metadata": {},
   "outputs": [
    {
     "name": "stdout",
     "output_type": "stream",
     "text": [
      "Initial Dataset:\n",
      "    StudentID   Math  Physics  Chemistry\n",
      "0          1   85.0     80.0       78.0\n",
      "1          2   90.0     89.0       85.0\n",
      "2          3    NaN     75.0       82.0\n",
      "3          4   92.0     85.0       89.0\n",
      "4          5   88.0     82.0       87.0\n",
      "5          6  300.0      NaN       95.0\n",
      "6          7   95.0     96.0       92.0\n",
      "7          8    NaN     70.0       76.0\n",
      "8          9   83.0     84.0        NaN\n",
      "9         10   91.0    200.0       88.0\n"
     ]
    }
   ],
   "source": [
    "dataf = pd.DataFrame(data)\n",
    "print(\"Initial Dataset:\\n\", dataf)"
   ]
  },
  {
   "cell_type": "code",
   "execution_count": 9,
   "id": "6ba183d6-2bd1-4c99-8246-16914b8d9c48",
   "metadata": {},
   "outputs": [
    {
     "name": "stdout",
     "output_type": "stream",
     "text": [
      "\n",
      "After Handling Missing Values:\n",
      "    StudentID   Math     Physics  Chemistry\n",
      "0          1   85.0   80.000000  78.000000\n",
      "1          2   90.0   89.000000  85.000000\n",
      "2          3  115.5   75.000000  82.000000\n",
      "3          4   92.0   85.000000  89.000000\n",
      "4          5   88.0   82.000000  87.000000\n",
      "5          6  300.0   95.666667  95.000000\n",
      "6          7   95.0   96.000000  92.000000\n",
      "7          8  115.5   70.000000  76.000000\n",
      "8          9   83.0   84.000000  85.777778\n",
      "9         10   91.0  200.000000  88.000000\n"
     ]
    }
   ],
   "source": [
    "# Step 2: Handle missing values (Requirement 1)\n",
    "dataf.fillna(dataf.mean(numeric_only=True), inplace=True)\n",
    "print(\"\\nAfter Handling Missing Values:\\n\", dataf)"
   ]
  },
  {
   "cell_type": "code",
   "execution_count": 13,
   "id": "5106d226-9477-4837-b23a-1652c751df2d",
   "metadata": {},
   "outputs": [
    {
     "name": "stdout",
     "output_type": "stream",
     "text": [
      "\n",
      "After Removing Outliers:\n",
      "    StudentID   Math  Physics  Chemistry\n",
      "0          1   85.0     80.0  78.000000\n",
      "1          2   90.0     89.0  85.000000\n",
      "2          3  115.5     75.0  82.000000\n",
      "3          4   92.0     85.0  89.000000\n",
      "4          5   88.0     82.0  87.000000\n",
      "6          7   95.0     96.0  92.000000\n",
      "7          8  115.5     70.0  76.000000\n",
      "8          9   83.0     84.0  85.777778\n"
     ]
    }
   ],
   "source": [
    "# Step 3: Remove outliers using IQR method (Requirement 2)\n",
    "numeric_cols = dataf.select_dtypes(include='number')\n",
    "Q1 = numeric_cols.quantile(0.25)\n",
    "Q3 = numeric_cols.quantile(0.75)\n",
    "IQR = Q3 - Q1\n",
    "dataf = dataf[(numeric_cols >= Q1 - 1.5 * IQR) & (numeric_cols <= Q3 + 1.5 * IQR)].dropna()\n",
    "print(\"\\nAfter Removing Outliers:\\n\", dataf)"
   ]
  },
  {
   "cell_type": "code",
   "execution_count": 15,
   "id": "0aa987a3-cc0f-4d63-ad29-5f4433b09e68",
   "metadata": {},
   "outputs": [
    {
     "name": "stdout",
     "output_type": "stream",
     "text": [
      "\n",
      "After Log Transformation on 'Math':\n",
      "    StudentID      Math  Physics  Chemistry\n",
      "0          1  4.454347     80.0  78.000000\n",
      "1          2  4.510860     89.0  85.000000\n",
      "2          3  4.757891     75.0  82.000000\n",
      "3          4  4.532599     85.0  89.000000\n",
      "4          5  4.488636     82.0  87.000000\n",
      "6          7  4.564348     96.0  92.000000\n",
      "7          8  4.757891     70.0  76.000000\n",
      "8          9  4.430817     84.0  85.777778\n"
     ]
    }
   ],
   "source": [
    "# Step 4: Apply log transformation to 'Math' (Requirement 3)\n",
    "dataf['Math'] = np.log1p(dataf['Math'])\n",
    "print(\"\\nAfter Log Transformation on 'Math':\\n\", dataf)"
   ]
  },
  {
   "cell_type": "code",
   "execution_count": 17,
   "id": "7755c3a5-55c1-410b-9d54-ea9a3bbe86dc",
   "metadata": {},
   "outputs": [
    {
     "name": "stdout",
     "output_type": "stream",
     "text": [
      "\n",
      "Final Summary Statistics:\n",
      "\n",
      "       StudentID      Math    Physics  Chemistry\n",
      "count   8.000000  8.000000   8.000000   8.000000\n",
      "mean    4.875000  4.562174  82.625000  84.347222\n",
      "std     2.900123  0.127846   8.034524   5.414214\n",
      "min     1.000000  4.430817  70.000000  76.000000\n",
      "25%     2.750000  4.480064  78.750000  81.000000\n",
      "50%     4.500000  4.521729  83.000000  85.388889\n",
      "75%     7.250000  4.612734  86.000000  87.500000\n",
      "max     9.000000  4.757891  96.000000  92.000000\n"
     ]
    }
   ],
   "source": [
    "# Step 5: Final summary\n",
    "print(\"\\nFinal Summary Statistics:\\n\")\n",
    "print(dataf.describe())"
   ]
  },
  {
   "cell_type": "code",
   "execution_count": null,
   "id": "074470ed-a0d8-4025-8bb0-60c7f2755507",
   "metadata": {},
   "outputs": [],
   "source": []
  }
 ],
 "metadata": {
  "kernelspec": {
   "display_name": "Python 3 (ipykernel)",
   "language": "python",
   "name": "python3"
  },
  "language_info": {
   "codemirror_mode": {
    "name": "ipython",
    "version": 3
   },
   "file_extension": ".py",
   "mimetype": "text/x-python",
   "name": "python",
   "nbconvert_exporter": "python",
   "pygments_lexer": "ipython3",
   "version": "3.12.7"
  }
 },
 "nbformat": 4,
 "nbformat_minor": 5
}
