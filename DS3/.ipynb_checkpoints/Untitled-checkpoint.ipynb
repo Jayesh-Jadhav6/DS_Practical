{
 "cells": [
  {
   "cell_type": "code",
   "execution_count": 3,
   "id": "66585fb5-9977-4529-ae5a-1a0e9723a384",
   "metadata": {},
   "outputs": [],
   "source": [
    "import pandas as pd"
   ]
  },
  {
   "cell_type": "code",
   "execution_count": 5,
   "id": "f053f049-5074-4d0c-bd1a-4645c886d7cd",
   "metadata": {},
   "outputs": [],
   "source": [
    "# Load the iris dataset\n",
    "iris = pd.read_csv('iris.csv')"
   ]
  },
  {
   "cell_type": "code",
   "execution_count": 7,
   "id": "b37cc1fa-c2d9-4f61-816e-9b681ae66ef1",
   "metadata": {},
   "outputs": [
    {
     "name": "stdout",
     "output_type": "stream",
     "text": [
      "First few rows of the dataset:\n",
      "   Id  SepalLengthCm  SepalWidthCm  PetalLengthCm  PetalWidthCm      Species\n",
      "0   1            5.1           3.5            1.4           0.2  Iris-setosa\n",
      "1   2            4.9           3.0            1.4           0.2  Iris-setosa\n",
      "2   3            4.7           3.2            1.3           0.2  Iris-setosa\n",
      "3   4            4.6           3.1            1.5           0.2  Iris-setosa\n",
      "4   5            5.0           3.6            1.4           0.2  Iris-setosa\n"
     ]
    }
   ],
   "source": [
    "# Display the first few rows of the dataset\n",
    "print(\"First few rows of the dataset:\")\n",
    "print(iris.head())"
   ]
  },
  {
   "cell_type": "code",
   "execution_count": 9,
   "id": "f2f40e9e-6337-4d90-bd0b-bbde2a2ed69d",
   "metadata": {},
   "outputs": [
    {
     "name": "stdout",
     "output_type": "stream",
     "text": [
      "\n",
      "Summary statistics for the whole dataset:\n",
      "               Id  SepalLengthCm  SepalWidthCm  PetalLengthCm  PetalWidthCm\n",
      "count  150.000000     150.000000    150.000000     150.000000    150.000000\n",
      "mean    75.500000       5.843333      3.054000       3.758667      1.198667\n",
      "std     43.445368       0.828066      0.433594       1.764420      0.763161\n",
      "min      1.000000       4.300000      2.000000       1.000000      0.100000\n",
      "25%     38.250000       5.100000      2.800000       1.600000      0.300000\n",
      "50%     75.500000       5.800000      3.000000       4.350000      1.300000\n",
      "75%    112.750000       6.400000      3.300000       5.100000      1.800000\n",
      "90%    135.100000       6.900000      3.610000       5.800000      2.200000\n",
      "max    150.000000       7.900000      4.400000       6.900000      2.500000\n"
     ]
    }
   ],
   "source": [
    "# General statistics for the entire dataset\n",
    "print(\"\\nSummary statistics for the whole dataset:\")\n",
    "print(iris.describe(percentiles=[0.25, 0.50, 0.75, 0.90]))"
   ]
  },
  {
   "cell_type": "code",
   "execution_count": 11,
   "id": "ac5cada7-b2ec-466c-94fa-9766a8b13ca6",
   "metadata": {},
   "outputs": [
    {
     "name": "stdout",
     "output_type": "stream",
     "text": [
      "\n",
      "Grouped Summary Statistics (Mean, Std, 90th Percentile) by Species:\n"
     ]
    }
   ],
   "source": [
    "# Grouped summary statistics by species\n",
    "print(\"\\nGrouped Summary Statistics (Mean, Std, 90th Percentile) by Species:\")"
   ]
  },
  {
   "cell_type": "code",
   "execution_count": 13,
   "id": "d489a2fa-13f4-4321-a9e3-da09ebfdd4bc",
   "metadata": {},
   "outputs": [],
   "source": [
    "# Mean, Standard Deviation, and 90th Percentile of Sepal Length by Species\n",
    "grouped_mean = iris.groupby(\"Species\")[\"SepalLengthCm\"].mean()\n",
    "grouped_std = iris.groupby(\"Species\")[\"SepalLengthCm\"].std()\n",
    "grouped_percentile_90 = iris.groupby(\"Species\")[\"SepalLengthCm\"].quantile(0.90)"
   ]
  },
  {
   "cell_type": "code",
   "execution_count": 16,
   "id": "f96ebd13-31fd-423d-8f5c-8bfebc8a1ddd",
   "metadata": {},
   "outputs": [
    {
     "name": "stdout",
     "output_type": "stream",
     "text": [
      "\n",
      "Mean of Sepal Length (in cm) per Species:\n",
      "Species\n",
      "Iris-setosa        5.006\n",
      "Iris-versicolor    5.936\n",
      "Iris-virginica     6.588\n",
      "Name: SepalLengthCm, dtype: float64\n"
     ]
    }
   ],
   "source": [
    "# Display results\n",
    "print(\"\\nMean of Sepal Length (in cm) per Species:\")\n",
    "print(grouped_mean)"
   ]
  },
  {
   "cell_type": "code",
   "execution_count": 18,
   "id": "0acf0c2a-5259-4f32-880a-849a254e51f2",
   "metadata": {},
   "outputs": [
    {
     "name": "stdout",
     "output_type": "stream",
     "text": [
      "\n",
      "Standard Deviation of Sepal Length (in cm) per Species:\n",
      "Species\n",
      "Iris-setosa        0.352490\n",
      "Iris-versicolor    0.516171\n",
      "Iris-virginica     0.635880\n",
      "Name: SepalLengthCm, dtype: float64\n"
     ]
    }
   ],
   "source": [
    "print(\"\\nStandard Deviation of Sepal Length (in cm) per Species:\")\n",
    "print(grouped_std)"
   ]
  },
  {
   "cell_type": "code",
   "execution_count": 20,
   "id": "e33f19fa-d478-4e6c-aa32-4c755f0b8c30",
   "metadata": {},
   "outputs": [
    {
     "name": "stdout",
     "output_type": "stream",
     "text": [
      "\n",
      "90th Percentile of Sepal Length (in cm) per Species:\n",
      "Species\n",
      "Iris-setosa        5.41\n",
      "Iris-versicolor    6.70\n",
      "Iris-virginica     7.61\n",
      "Name: SepalLengthCm, dtype: float64\n"
     ]
    }
   ],
   "source": [
    "print(\"\\n90th Percentile of Sepal Length (in cm) per Species:\")\n",
    "print(grouped_percentile_90)"
   ]
  },
  {
   "cell_type": "code",
   "execution_count": 22,
   "id": "88a44b2a-3da3-42f6-af59-21c842b375da",
   "metadata": {},
   "outputs": [],
   "source": [
    "# Filtering dataset for each species\n",
    "iris_setosa = iris[iris['Species'] == 'Iris-setosa']\n",
    "iris_versicolor = iris[iris['Species'] == 'Iris-versicolor']\n",
    "iris_virginica = iris[iris['Species'] == 'Iris-virginica']"
   ]
  },
  {
   "cell_type": "code",
   "execution_count": 24,
   "id": "9b4df3ee-d3e0-496c-ae6c-a7209328564c",
   "metadata": {},
   "outputs": [
    {
     "name": "stdout",
     "output_type": "stream",
     "text": [
      "\n",
      "Statistical Details for Iris-setosa:\n",
      "             Id  SepalLengthCm  SepalWidthCm  PetalLengthCm  PetalWidthCm\n",
      "count  50.00000       50.00000     50.000000      50.000000      50.00000\n",
      "mean   25.50000        5.00600      3.418000       1.464000       0.24400\n",
      "std    14.57738        0.35249      0.381024       0.173511       0.10721\n",
      "min     1.00000        4.30000      2.300000       1.000000       0.10000\n",
      "25%    13.25000        4.80000      3.125000       1.400000       0.20000\n",
      "50%    25.50000        5.00000      3.400000       1.500000       0.20000\n",
      "75%    37.75000        5.20000      3.675000       1.575000       0.30000\n",
      "90%    45.10000        5.41000      3.900000       1.700000       0.40000\n",
      "max    50.00000        5.80000      4.400000       1.900000       0.60000\n"
     ]
    }
   ],
   "source": [
    "# Detailed descriptive statistics for each species\n",
    "print(\"\\nStatistical Details for Iris-setosa:\")\n",
    "print(iris_setosa.describe(percentiles=[0.25, 0.50, 0.75, 0.90]))"
   ]
  },
  {
   "cell_type": "code",
   "execution_count": 26,
   "id": "0738395c-822b-4ff1-8852-20a38387eb64",
   "metadata": {},
   "outputs": [
    {
     "name": "stdout",
     "output_type": "stream",
     "text": [
      "\n",
      "Statistical Details for Iris-versicolor:\n",
      "              Id  SepalLengthCm  SepalWidthCm  PetalLengthCm  PetalWidthCm\n",
      "count   50.00000      50.000000     50.000000      50.000000     50.000000\n",
      "mean    75.50000       5.936000      2.770000       4.260000      1.326000\n",
      "std     14.57738       0.516171      0.313798       0.469911      0.197753\n",
      "min     51.00000       4.900000      2.000000       3.000000      1.000000\n",
      "25%     63.25000       5.600000      2.525000       4.000000      1.200000\n",
      "50%     75.50000       5.900000      2.800000       4.350000      1.300000\n",
      "75%     87.75000       6.300000      3.000000       4.600000      1.500000\n",
      "90%     95.10000       6.700000      3.110000       4.800000      1.510000\n",
      "max    100.00000       7.000000      3.400000       5.100000      1.800000\n"
     ]
    }
   ],
   "source": [
    "print(\"\\nStatistical Details for Iris-versicolor:\")\n",
    "print(iris_versicolor.describe(percentiles=[0.25, 0.50, 0.75, 0.90]))"
   ]
  },
  {
   "cell_type": "code",
   "execution_count": 28,
   "id": "0f7b036d-6b13-4cb5-b275-3900f840b286",
   "metadata": {},
   "outputs": [
    {
     "name": "stdout",
     "output_type": "stream",
     "text": [
      "\n",
      "Statistical Details for Iris-virginica:\n",
      "              Id  SepalLengthCm  SepalWidthCm  PetalLengthCm  PetalWidthCm\n",
      "count   50.00000       50.00000     50.000000      50.000000      50.00000\n",
      "mean   125.50000        6.58800      2.974000       5.552000       2.02600\n",
      "std     14.57738        0.63588      0.322497       0.551895       0.27465\n",
      "min    101.00000        4.90000      2.200000       4.500000       1.40000\n",
      "25%    113.25000        6.22500      2.800000       5.100000       1.80000\n",
      "50%    125.50000        6.50000      3.000000       5.550000       2.00000\n",
      "75%    137.75000        6.90000      3.175000       5.875000       2.30000\n",
      "90%    145.10000        7.61000      3.310000       6.310000       2.40000\n",
      "max    150.00000        7.90000      3.800000       6.900000       2.50000\n"
     ]
    }
   ],
   "source": [
    "print(\"\\nStatistical Details for Iris-virginica:\")\n",
    "print(iris_virginica.describe(percentiles=[0.25, 0.50, 0.75, 0.90]))"
   ]
  },
  {
   "cell_type": "code",
   "execution_count": null,
   "id": "0f366d00-eca2-44fc-b0ad-25d0f42588cc",
   "metadata": {},
   "outputs": [],
   "source": []
  }
 ],
 "metadata": {
  "kernelspec": {
   "display_name": "Python 3 (ipykernel)",
   "language": "python",
   "name": "python3"
  },
  "language_info": {
   "codemirror_mode": {
    "name": "ipython",
    "version": 3
   },
   "file_extension": ".py",
   "mimetype": "text/x-python",
   "name": "python",
   "nbconvert_exporter": "python",
   "pygments_lexer": "ipython3",
   "version": "3.12.7"
  }
 },
 "nbformat": 4,
 "nbformat_minor": 5
}
